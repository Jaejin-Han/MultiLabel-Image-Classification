{
 "cells": [
  {
   "cell_type": "code",
   "execution_count": 70,
   "metadata": {
    "ExecuteTime": {
     "end_time": "2018-01-07T23:53:22.964298Z",
     "start_time": "2018-01-07T23:53:22.780530Z"
    }
   },
   "outputs": [
    {
     "name": "stdout",
     "output_type": "stream",
     "text": [
      "All files found!\n"
     ]
    }
   ],
   "source": [
    "from urllib.request import urlretrieve\n",
    "from os.path import isfile, isdir\n",
    "from tqdm import tqdm\n",
    "import problem_unittests as tests\n",
    "import tarfile\n",
    "import sklearn\n",
    "from sklearn import *\n",
    "cifar10_dataset_folder_path = 'cifar-10-batches-py'\n",
    "\n",
    "class DLProgress(tqdm):\n",
    "    last_block = 0\n",
    "\n",
    "    def hook(self, block_num=1, block_size=1, total_size=None):\n",
    "        self.total = total_size\n",
    "        self.update((block_num - self.last_block) * block_size)\n",
    "        self.last_block = block_num\n",
    "\n",
    "if not isfile('cifar-10-python.tar.gz'):\n",
    "    with DLProgress(unit='B', unit_scale=True, miniters=1, desc='CIFAR-10 Dataset') as pbar:\n",
    "        urlretrieve(\n",
    "            'https://www.cs.toronto.edu/~kriz/cifar-10-python.tar.gz',\n",
    "            'cifar-10-python.tar.gz',\n",
    "            pbar.hook)\n",
    "\n",
    "if not isdir(cifar10_dataset_folder_path):\n",
    "    with tarfile.open('cifar-10-python.tar.gz') as tar:\n",
    "        tar.extractall()\n",
    "        tar.close()\n",
    "\n",
    "\n",
    "tests.test_folder_path(cifar10_dataset_folder_path)"
   ]
  },
  {
   "cell_type": "markdown",
   "metadata": {
    "collapsed": true
   },
   "source": [
    "# Image Classification\n",
    "In this project, you'll classify images from the [CIFAR-10 dataset](https://www.cs.toronto.edu/~kriz/cifar.html).  The dataset consists of airplanes, dogs, cats, and other objects. You'll preprocess the images, then train a convolutional neural network on all the samples. The images need to be normalized and the labels need to be one-hot encoded.  You'll get to apply what you learned and build a convolutional, max pooling, dropout, and fully connected layers.  At the end, you'll get to see your neural network's predictions on the sample images.\n",
    "## Get the Data\n",
    "Run the following cell to download the [CIFAR-10 dataset for python](https://www.cs.toronto.edu/~kriz/cifar-10-python.tar.gz)."
   ]
  },
  {
   "cell_type": "markdown",
   "metadata": {},
   "source": [
    "## Explore the Data\n",
    "The dataset is broken into batches to prevent your machine from running out of memory.  The CIFAR-10 dataset consists of 5 batches, named `data_batch_1`, `data_batch_2`, etc.. Each batch contains the labels and images that are one of the following:\n",
    "* airplane\n",
    "* automobile\n",
    "* bird\n",
    "* cat\n",
    "* deer\n",
    "* dog\n",
    "* frog\n",
    "* horse\n",
    "* ship\n",
    "* truck\n",
    "\n",
    "Understanding a dataset is part of making predictions on the data.  Play around with the code cell below by changing the `batch_id` and `sample_id`. The `batch_id` is the id for a batch (1-5). The `sample_id` is the id for a image and label pair in the batch.\n",
    "\n",
    "Ask yourself \"What are all possible labels?\", \"What is the range of values for the image data?\", \"Are the labels in order or random?\".  Answers to questions like these will help you preprocess the data and end up with better predictions."
   ]
  },
  {
   "cell_type": "code",
   "execution_count": 71,
   "metadata": {
    "ExecuteTime": {
     "end_time": "2018-01-07T23:53:26.524855Z",
     "start_time": "2018-01-07T23:53:25.201999Z"
    }
   },
   "outputs": [
    {
     "name": "stdout",
     "output_type": "stream",
     "text": [
      "\n",
      "Stats of batch 5:\n",
      "Samples: 10000\n",
      "Label Counts: {0: 1014, 1: 1014, 2: 952, 3: 1016, 4: 997, 5: 1025, 6: 980, 7: 977, 8: 1003, 9: 1022}\n",
      "First 20 Labels: [1, 8, 5, 1, 5, 7, 4, 3, 8, 2, 7, 2, 0, 1, 5, 9, 6, 2, 0, 8]\n",
      "\n",
      "Example of Image 5:\n",
      "Image - Min Value: 1 Max Value: 255\n",
      "Image - Shape: (32, 32, 3)\n",
      "Label - Label Id: 7 Name: horse\n"
     ]
    },
    {
     "data": {
      "image/png": "[encoded data removed]",
      "text/plain": [
       "<matplotlib.figure.Figure at 0x172b9a0bc50>"
      ]
     },
     "metadata": {
      "image/png": {
       "height": 250,
       "width": 253
      }
     },
     "output_type": "display_data"
    }
   ],
   "source": [
    "%matplotlib inline\n",
    "%config InlineBackend.figure_format = 'retina'\n",
    "\n",
    "import helper\n",
    "import numpy as np\n",
    "\n",
    "# Explore the dataset\n",
    "#seems random but not\n",
    "#batch_id = >=6 out of range\n",
    "#sam-batch =5,5 for ease of visualization\n",
    "batch_id = 5\n",
    "sample_id = 5\n",
    "# batch_id = 6\n",
    "# sample_id = 5\n",
    "helper.display_stats(cifar10_dataset_folder_path, batch_id, sample_id)"
   ]
  },
  {
   "cell_type": "code",
   "execution_count": 72,
   "metadata": {
    "ExecuteTime": {
     "end_time": "2018-01-07T23:53:28.793955Z",
     "start_time": "2018-01-07T23:53:28.741953Z"
    },
    "run_control": {
     "marked": false
    }
   },
   "outputs": [
    {
     "name": "stdout",
     "output_type": "stream",
     "text": [
      "Tests Passed\n"
     ]
    }
   ],
   "source": [
    "import numpy as np\n",
    "from sklearn.preprocessing import normalize\n",
    "def normalize(x):\n",
    "    \"\"\"\n",
    "    Normalize a list of sample image data in the range of 0 to 1\n",
    "    : x: List of image data.  The image shape is (32, 32, 3)\n",
    "    : return: Numpy array of normalize data\n",
    "    \"\"\"\n",
    "# Xi = Xi-minx/maxX-minX\n",
    "    # TODO: Implement Function\n",
    "#     x_min = np.min(x)\n",
    "#     x_max = np.max(x) \n",
    "# X_std = (X - X.min(axis=0)) / (X.max(axis=0) - X.min(axis=0))\n",
    "# X_scaled = X_std * (max - min) + min\n",
    "\n",
    "    return x / 255\n",
    "\n",
    "\n",
    "\n",
    "\"\"\"\n",
    "DON'T MODIFY ANYTHING IN THIS CELL THAT IS BELOW THIS LINE\n",
    "\"\"\"\n",
    "tests.test_normalize(normalize)"
   ]
  },
  {
   "cell_type": "code",
   "execution_count": 73,
   "metadata": {
    "ExecuteTime": {
     "end_time": "2018-01-07T23:53:30.174799Z",
     "start_time": "2018-01-07T23:53:30.122804Z"
    },
    "run_control": {
     "marked": false
    }
   },
   "outputs": [
    {
     "name": "stdout",
     "output_type": "stream",
     "text": [
      "[[ 0.  0.  0.  0.  0.  0.  0.  1.  0.  0.]\n",
      " [ 0.  0.  0.  1.  0.  0.  0.  0.  0.  0.]\n",
      " [ 0.  0.  0.  0.  0.  0.  0.  0.  0.  1.]\n",
      " [ 0.  1.  0.  0.  0.  0.  0.  0.  0.  0.]\n",
      " [ 0.  0.  0.  0.  0.  1.  0.  0.  0.  0.]\n",
      " [ 0.  0.  0.  0.  0.  0.  0.  0.  1.  0.]\n",
      " [ 0.  0.  0.  0.  0.  0.  0.  1.  0.  0.]\n",
      " [ 0.  0.  0.  0.  0.  1.  0.  0.  0.  0.]\n",
      " [ 0.  0.  0.  1.  0.  0.  0.  0.  0.  0.]\n",
      " [ 0.  0.  0.  0.  0.  0.  0.  0.  1.  0.]]\n",
      "[[ 0.  0.  0.  0.  1.  0.  0.  0.  0.  0.]\n",
      " [ 0.  1.  0.  0.  0.  0.  0.  0.  0.  0.]\n",
      " [ 0.  0.  0.  0.  0.  0.  0.  1.  0.  0.]\n",
      " [ 0.  0.  0.  0.  1.  0.  0.  0.  0.  0.]\n",
      " [ 0.  0.  1.  0.  0.  0.  0.  0.  0.  0.]]\n",
      "Tests Passed\n"
     ]
    }
   ],
   "source": [
    "from keras.utils import np_utils\n",
    "def one_hot_encode(x):\n",
    "    \"\"\"\n",
    "    One hot encode a list of sample labels. Return a one-hot encoded vector for each label.\n",
    "    : x: List of sample Labels\n",
    "    : return: Numpy array of one-hot encoded labels\n",
    "    \"\"\"\n",
    "    # TODO: Implement Function\n",
    "#     Note: a one-hot encoding of y labels should use a LabelBinarizer instead. SKLEARN DOCUMENTATION\n",
    "#     enc = np.zeros((len(x), 10)) #--->GOT THE ERROR  assert one_hot_out.shape == (test_shape, 10),\\\n",
    "#     enc = range(len(enc))\n",
    "    enc= np_utils.to_categorical(x, 10)\n",
    "    \n",
    "\n",
    "#     cols = list(x)\n",
    "#         y[rows, cols] = 1\n",
    "#     print(y[rows[:10], cols[:10]],'\\n\\n')\n",
    "    print(enc[:10])\n",
    "    return enc\n",
    "\n",
    "\n",
    "\n",
    "\"\"\"\n",
    "DON'T MODIFY ANYTHING IN THIS CELL THAT IS BELOW THIS LINE\n",
    "\"\"\"\n",
    "tests.test_one_hot_encode(one_hot_encode)"
   ]
  },
  {
   "cell_type": "code",
   "execution_count": 74,
   "metadata": {
    "ExecuteTime": {
     "end_time": "2018-01-07T23:54:02.163909Z",
     "start_time": "2018-01-07T23:53:32.663958Z"
    }
   },
   "outputs": [
    {
     "name": "stdout",
     "output_type": "stream",
     "text": [
      "[[ 0.  0.  0.  0.  0.  0.  1.  0.  0.  0.]\n",
      " [ 0.  0.  0.  0.  0.  0.  0.  0.  0.  1.]\n",
      " [ 0.  0.  0.  0.  0.  0.  0.  0.  0.  1.]\n",
      " [ 0.  0.  0.  0.  1.  0.  0.  0.  0.  0.]\n",
      " [ 0.  1.  0.  0.  0.  0.  0.  0.  0.  0.]\n",
      " [ 0.  1.  0.  0.  0.  0.  0.  0.  0.  0.]\n",
      " [ 0.  0.  1.  0.  0.  0.  0.  0.  0.  0.]\n",
      " [ 0.  0.  0.  0.  0.  0.  0.  1.  0.  0.]\n",
      " [ 0.  0.  0.  0.  0.  0.  0.  0.  1.  0.]\n",
      " [ 0.  0.  0.  1.  0.  0.  0.  0.  0.  0.]]\n",
      "[[ 0.  1.  0.  0.  0.  0.  0.  0.  0.  0.]\n",
      " [ 0.  0.  0.  0.  0.  0.  1.  0.  0.  0.]\n",
      " [ 0.  0.  0.  0.  0.  0.  1.  0.  0.  0.]\n",
      " [ 0.  0.  0.  0.  0.  0.  0.  0.  1.  0.]\n",
      " [ 0.  0.  0.  0.  0.  0.  0.  0.  1.  0.]\n",
      " [ 0.  0.  0.  1.  0.  0.  0.  0.  0.  0.]\n",
      " [ 0.  0.  0.  0.  1.  0.  0.  0.  0.  0.]\n",
      " [ 0.  0.  0.  0.  0.  0.  1.  0.  0.  0.]\n",
      " [ 1.  0.  0.  0.  0.  0.  0.  0.  0.  0.]\n",
      " [ 0.  0.  0.  0.  0.  0.  1.  0.  0.  0.]]\n",
      "[[ 0.  0.  0.  0.  0.  0.  0.  0.  1.  0.]\n",
      " [ 0.  0.  0.  0.  0.  1.  0.  0.  0.  0.]\n",
      " [ 1.  0.  0.  0.  0.  0.  0.  0.  0.  0.]\n",
      " [ 0.  0.  0.  0.  0.  0.  1.  0.  0.  0.]\n",
      " [ 0.  0.  0.  0.  0.  0.  0.  0.  0.  1.]\n",
      " [ 0.  0.  1.  0.  0.  0.  0.  0.  0.  0.]\n",
      " [ 0.  0.  0.  0.  0.  0.  0.  0.  1.  0.]\n",
      " [ 0.  0.  0.  1.  0.  0.  0.  0.  0.  0.]\n",
      " [ 0.  0.  0.  0.  0.  0.  1.  0.  0.  0.]\n",
      " [ 0.  0.  1.  0.  0.  0.  0.  0.  0.  0.]]\n",
      "[[ 1.  0.  0.  0.  0.  0.  0.  0.  0.  0.]\n",
      " [ 0.  0.  0.  0.  0.  0.  1.  0.  0.  0.]\n",
      " [ 1.  0.  0.  0.  0.  0.  0.  0.  0.  0.]\n",
      " [ 0.  0.  1.  0.  0.  0.  0.  0.  0.  0.]\n",
      " [ 0.  0.  0.  0.  0.  0.  0.  1.  0.  0.]\n",
      " [ 0.  0.  1.  0.  0.  0.  0.  0.  0.  0.]\n",
      " [ 0.  1.  0.  0.  0.  0.  0.  0.  0.  0.]\n",
      " [ 0.  0.  1.  0.  0.  0.  0.  0.  0.  0.]\n",
      " [ 0.  0.  0.  0.  1.  0.  0.  0.  0.  0.]\n",
      " [ 0.  1.  0.  0.  0.  0.  0.  0.  0.  0.]]\n",
      "[[ 0.  1.  0.  0.  0.  0.  0.  0.  0.  0.]\n",
      " [ 0.  0.  0.  0.  0.  0.  0.  0.  1.  0.]\n",
      " [ 0.  0.  0.  0.  0.  1.  0.  0.  0.  0.]\n",
      " [ 0.  1.  0.  0.  0.  0.  0.  0.  0.  0.]\n",
      " [ 0.  0.  0.  0.  0.  1.  0.  0.  0.  0.]\n",
      " [ 0.  0.  0.  0.  0.  0.  0.  1.  0.  0.]\n",
      " [ 0.  0.  0.  0.  1.  0.  0.  0.  0.  0.]\n",
      " [ 0.  0.  0.  1.  0.  0.  0.  0.  0.  0.]\n",
      " [ 0.  0.  0.  0.  0.  0.  0.  0.  1.  0.]\n",
      " [ 0.  0.  1.  0.  0.  0.  0.  0.  0.  0.]]\n",
      "[[ 0.  0.  0.  0.  1.  0.  0.  0.  0.  0.]\n",
      " [ 0.  0.  1.  0.  0.  0.  0.  0.  0.  0.]\n",
      " [ 0.  0.  1.  0.  0.  0.  0.  0.  0.  0.]\n",
      " [ 0.  0.  0.  0.  0.  0.  0.  0.  0.  1.]\n",
      " [ 1.  0.  0.  0.  0.  0.  0.  0.  0.  0.]\n",
      " [ 0.  0.  0.  1.  0.  0.  0.  0.  0.  0.]\n",
      " [ 0.  0.  0.  1.  0.  0.  0.  0.  0.  0.]\n",
      " [ 0.  1.  0.  0.  0.  0.  0.  0.  0.  0.]\n",
      " [ 0.  0.  0.  1.  0.  0.  0.  0.  0.  0.]\n",
      " [ 1.  0.  0.  0.  0.  0.  0.  0.  0.  0.]]\n",
      "[[ 0.  0.  0.  1.  0.  0.  0.  0.  0.  0.]\n",
      " [ 0.  0.  0.  0.  0.  0.  0.  0.  1.  0.]\n",
      " [ 0.  0.  0.  0.  0.  0.  0.  0.  1.  0.]\n",
      " [ 1.  0.  0.  0.  0.  0.  0.  0.  0.  0.]\n",
      " [ 0.  0.  0.  0.  0.  0.  1.  0.  0.  0.]\n",
      " [ 0.  0.  0.  0.  0.  0.  1.  0.  0.  0.]\n",
      " [ 0.  1.  0.  0.  0.  0.  0.  0.  0.  0.]\n",
      " [ 0.  0.  0.  0.  0.  0.  1.  0.  0.  0.]\n",
      " [ 0.  0.  0.  1.  0.  0.  0.  0.  0.  0.]\n",
      " [ 0.  1.  0.  0.  0.  0.  0.  0.  0.  0.]]\n"
     ]
    }
   ],
   "source": [
    "# Preprocess Training, Validation, and Testing Data\n",
    "helper.preprocess_and_save_data(cifar10_dataset_folder_path, normalize, one_hot_encode)"
   ]
  },
  {
   "cell_type": "code",
   "execution_count": 75,
   "metadata": {
    "ExecuteTime": {
     "end_time": "2018-01-07T23:54:05.470689Z",
     "start_time": "2018-01-07T23:54:04.749034Z"
    }
   },
   "outputs": [],
   "source": [
    "import pickle\n",
    "import problem_unittests as tests\n",
    "import helper\n",
    "\n",
    "# Load the Preprocessed Validation data\n",
    "valid_features, valid_labels = pickle.load(open('preprocess_validation.p', mode='rb'))"
   ]
  },
  {
   "cell_type": "code",
   "execution_count": 76,
   "metadata": {
    "ExecuteTime": {
     "end_time": "2018-01-07T23:54:06.893971Z",
     "start_time": "2018-01-07T23:54:06.750090Z"
    }
   },
   "outputs": [
    {
     "name": "stdout",
     "output_type": "stream",
     "text": [
      "ImageShape:--> (32, 32, 3)\n",
      "Image Input Tests Passed.\n",
      "Number Of Classes:--> 10\n",
      "Label Input Tests Passed.\n",
      "Keep Prob Tests Passed.\n"
     ]
    }
   ],
   "source": [
    "import tensorflow as tf\n",
    "\n",
    "def neural_net_image_input(image_shape):\n",
    "    \"\"\"\n",
    "    Return a Tensor for a batch of image input\n",
    "    : image_shape: Shape of the images\n",
    "    : return: Tensor for image input.\n",
    "    \n",
    "    \"\"\"\n",
    "    \n",
    "#     \n",
    "# def test_nn_image_inputs(neural_net_image_input):\n",
    "#     image_shape = (32, 32, 3)\n",
    "#     nn_inputs_out_x = neural_net_image_input(image_shape)\n",
    "\n",
    "#     assert nn_inputs_out_x.get_shape().as_list() == [None, image_shape[0], image_shape[1], image_shape[2]],\\\n",
    "#         'Incorrect Image Shape.  Found {} shape'.format(nn_inputs_out_x.get_shape().as_list())\n",
    "# \n",
    "    # TODO: Implement Function\n",
    "    print('ImageShape:-->',image_shape)\n",
    "    return tf.placeholder(tf.float32, shape=[None, \\\n",
    "                image_shape[0], image_shape[1], image_shape[2]], name='x')\n",
    "\n",
    "def neural_net_label_input(n_classes):\n",
    "    \"\"\"\n",
    "    Return a Tensor for a batch of label input\n",
    "    : n_classes: Number of classes\n",
    "    : return: Tensor for label input.\n",
    "    \"\"\"\n",
    "    # TODO: Implement Function\n",
    "#     def test_nn_label_inputs(neural_net_label_input):\n",
    "# assert nn_inputs_out_y.get_shape().as_list() == [None, n_classes]\n",
    "    print('Number Of Classes:-->',n_classes)\n",
    "    return tf.placeholder(tf.float32, shape=[None, n_classes], name='y')\n",
    "\n",
    "\n",
    "def neural_net_keep_prob_input():\n",
    "    \"\"\"\n",
    "    Return a Tensor for keep probability\n",
    "    : return: Tensor for keep probability.\n",
    "    \"\"\"\n",
    "    # TODO: Implement Function\n",
    "    return tf.placeholder(tf.float32, name='keep_prob')\n",
    "\n",
    "\n",
    "\"\"\"\n",
    "DON'T MODIFY ANYTHING IN THIS CELL THAT IS BELOW THIS LINE\n",
    "\"\"\"\n",
    "tf.reset_default_graph()\n",
    "tests.test_nn_image_inputs(neural_net_image_input)\n",
    "tests.test_nn_label_inputs(neural_net_label_input)\n",
    "tests.test_nn_keep_prob_inputs(neural_net_keep_prob_input)"
   ]
  },
  {
   "cell_type": "code",
   "execution_count": 96,
   "metadata": {
    "ExecuteTime": {
     "end_time": "2018-01-08T00:11:27.739542Z",
     "start_time": "2018-01-08T00:11:27.601189Z"
    }
   },
   "outputs": [
    {
     "name": "stdout",
     "output_type": "stream",
     "text": [
      "Tests Passed\n"
     ]
    }
   ],
   "source": [
    "def conv2d_maxpool(x_tensor, conv_num_outputs, conv_ksize, conv_strides, pool_ksize, pool_strides):\n",
    "    \"\"\"\n",
    "    Apply convolution then max pooling to x_tensor\n",
    "    :param x_tensor: TensorFlow Tensor\n",
    "    :param conv_num_outputs: Number of outputs for the convolutional layer\n",
    "    :param conv_ksize: kernal size 2-D Tuple for the convolutional layer\n",
    "    :param conv_strides: Stride 2-D Tuple for convolution\n",
    "    :param pool_ksize: kernal size 2-D Tuple for pool\n",
    "    :param pool_strides: Stride 2-D Tuple for pool\n",
    "    : return: A tensor that represents convolution and max pooling of x_tensor\n",
    "    \"\"\"\n",
    "    # TODO: Implement Function\n",
    "    weight = tf.Variable(tf.truncated_normal([conv_ksize[0], conv_ksize[1], \\\n",
    "                    x_tensor.get_shape().as_list()[-1], conv_num_outputs], stddev=0.15))\n",
    "    \n",
    "    bias = tf.Variable(tf.zeros(conv_num_outputs))\n",
    "    \n",
    "    conv = tf.nn.conv2d(x_tensor, weight, \n",
    "                          strides=[1, conv_strides[0], conv_strides[1], 1],\n",
    "                          padding='SAME')\n",
    "    \n",
    "    x_tensor = tf.nn.bias_add(conv, bias)\n",
    "    \n",
    "#     x_tensor = tf.nn.relu(x_tensor)\n",
    "    x_tensor = tf.nn.relu(x_tensor)\n",
    "    \n",
    "    pool = tf.nn.max_pool(x_tensor, \n",
    "                            ksize=[1, pool_ksize[0], pool_ksize[1], 1], \n",
    "                            strides=[1, pool_strides[0], pool_strides[1], 1],\n",
    "                            padding='SAME')\n",
    "#     print('\\nweight:\\n',weight,'\\n\\nbias\\n:',bias,'\\n\\nx_tensor\\n:',x_tensor,'\\n')\n",
    "    \n",
    "    return pool\n",
    "\n",
    "\n",
    "\n",
    "tests.test_con_pool(conv2d_maxpool)"
   ]
  },
  {
   "cell_type": "code",
   "execution_count": 97,
   "metadata": {
    "ExecuteTime": {
     "end_time": "2018-01-08T00:11:29.457398Z",
     "start_time": "2018-01-08T00:11:29.413394Z"
    }
   },
   "outputs": [
    {
     "name": "stdout",
     "output_type": "stream",
     "text": [
      "Tests Passed\n"
     ]
    }
   ],
   "source": [
    "def flatten(x_tensor):\n",
    "    \"\"\"\n",
    "    Flatten x_tensor to (Batch Size, Flattened Image Size)\n",
    "    : x_tensor: A tensor of size (Batch Size, ...), where ... are the image dimensions.\n",
    "    : return: A tensor of size (Batch Size, Flattened Image Size).\n",
    "    \"\"\"\n",
    "    # TODO: Implement Function\n",
    "#     print('X tensor:\\n',x_tensor,)\n",
    "    return tf.contrib.layers.flatten(x_tensor)\n",
    "\n",
    "\n",
    "tests.test_flatten(flatten)"
   ]
  },
  {
   "cell_type": "code",
   "execution_count": 98,
   "metadata": {
    "ExecuteTime": {
     "end_time": "2018-01-08T00:11:31.259293Z",
     "start_time": "2018-01-08T00:11:31.195296Z"
    }
   },
   "outputs": [
    {
     "name": "stdout",
     "output_type": "stream",
     "text": [
      "Tests Passed\n"
     ]
    }
   ],
   "source": [
    "def fully_conn(x_tensor, num_outputs):\n",
    "    \"\"\"\n",
    "    Apply a fully connected layer to x_tensor using weight and bias\n",
    "    : x_tensor: A 2-D tensor where the first dimension is batch size.\n",
    "    : num_outputs: The number of output that the new tensor should be.\n",
    "    : return: A 2-D tensor where the second dimension is num_outputs.\n",
    "    \"\"\"\n",
    "    # TODO: Implement Function\n",
    "#     print('X tensor:\\n',x_tensor,'\\n\\nNumber of Outputs:',num_outputs)\n",
    "    return tf.contrib.layers.fully_connected(x_tensor, num_outputs)\n",
    "\n",
    "tests.test_fully_conn(fully_conn)"
   ]
  },
  {
   "cell_type": "code",
   "execution_count": 99,
   "metadata": {
    "ExecuteTime": {
     "end_time": "2018-01-08T00:11:32.697798Z",
     "start_time": "2018-01-08T00:11:32.629800Z"
    }
   },
   "outputs": [
    {
     "name": "stdout",
     "output_type": "stream",
     "text": [
      "Tests Passed\n"
     ]
    }
   ],
   "source": [
    "def output(x_tensor, num_outputs):\n",
    "    \"\"\"\n",
    "    Apply a output layer to x_tensor using weight and bias\n",
    "    : x_tensor: A 2-D tensor where the first dimension is batch size.\n",
    "    : num_outputs: The number of output that the new tensor should be.\n",
    "    : return: A 2-D tensor where the second dimension is num_outputs.\n",
    "    \"\"\"\n",
    "    # TODO: Implement Function\n",
    "#     print('X tensor:\\n',x_tensor,'\\n\\nNumber of Outputs:',num_outputs)\n",
    "    activation_fn = None\n",
    "    return tf.contrib.layers.fully_connected(x_tensor, num_outputs,activation_fn = activation_fn)\n",
    "\n",
    "tests.test_output(output)"
   ]
  },
  {
   "cell_type": "code",
   "execution_count": 111,
   "metadata": {
    "ExecuteTime": {
     "end_time": "2018-01-08T00:30:03.683773Z",
     "start_time": "2018-01-08T00:30:02.191881Z"
    },
    "run_control": {
     "marked": false
    }
   },
   "outputs": [
    {
     "name": "stdout",
     "output_type": "stream",
     "text": [
      "ImageShape:--> (32, 32, 3)\n",
      "Number Of Classes:--> 10\n",
      "Neural Network Built!\n"
     ]
    }
   ],
   "source": [
    "def conv_net(x, keep_prob):\n",
    "    \"\"\"\n",
    "    Create a convolutional neural network model\n",
    "    : x: Placeholder tensor that holds image data.\n",
    "    : keep_prob: Placeholder tensor that hold dropout keep probability.\n",
    "    : return: Tensor that represents logits\n",
    "    \"\"\"\n",
    "    # TODO: Apply 1, 2, or 3 Convolution and Max Pool layers\n",
    "    #    Play around with different number of outputs, kernel size and stride\n",
    "    # Function Definition from Above:\n",
    "    #    conv2d_maxpool(x_tensor, conv_num_outputs, conv_ksize, conv_strides, pool_ksize, pool_strides)\n",
    "    \n",
    "#     conv_ksize       = (6, 6)\n",
    "#     conv_strides     = (3,3)\n",
    "#     conv_num_outputs = (36) \n",
    "    \n",
    "#     pool_ksize       = (conv_strides[0], conv_strides[1]) \n",
    "#     pool_strides     = (pool_ksize[0]/2, pool_ksize[1]/2) \n",
    "    \n",
    "    num_outputs      = 10\n",
    "\n",
    "    # TODO: Apply 1, 2, or 3 Convolution and Max Pool layers\n",
    "    # Play around with different number of outputs, kernel size and stride\n",
    "    # Function Definition from Above:\n",
    "    # conv2d_maxpool(x_tensor,conv_num_outputs,conv_ksize,conv_strides,pool_ksize,pool_strides)\n",
    "    \n",
    "#     x_tensor = tf.nn.relu(x_tensor)\n",
    "#     x_tensor = tf.nn.relu(conv2d_maxpool)\n",
    "    \n",
    "#     max_pool = tf.nn.max_pool(x,x_tensor ,[0, pool_ksize[0], pool_ksize[1], 1], \\\n",
    "#                  [0, pool_strides[0], pool_strides[1], 1],data_format='NHWC')\n",
    "# #     print('weight:',weight,'\\n\\nbias:',bias,'\\n\\nx_tensor:',x_tensor,'\\n')\n",
    "       \n",
    "    conv = conv2d_maxpool(x,\n",
    "                           conv_num_outputs=10,\n",
    "                           conv_ksize=[4,4],\n",
    "                           conv_strides=[1,1],\n",
    "                           pool_ksize=[2,2],\n",
    "                           pool_strides=[2,2]\n",
    "                           )\n",
    "    \n",
    "    conv2 = conv2d_maxpool(conv,\n",
    "                          conv_num_outputs=20,\n",
    "                           conv_ksize=[4,4],\n",
    "                           conv_strides=[1,1],\n",
    "                           pool_ksize=[2,2],\n",
    "                           pool_strides=[2,2],\n",
    "                          )\n",
    "    \n",
    "    conv3= conv2d_maxpool(conv2,\n",
    "                           conv_num_outputs=30,\n",
    "                           conv_ksize=[4,4],\n",
    "                           conv_strides=[1,1],\n",
    "                           pool_ksize=[2,2],\n",
    "                           pool_strides=[2,2])\n",
    "\n",
    "#     tf.reduce_max(conv3, reduction_indices=[3], keep_dims=True)\n",
    "    \n",
    "    # TODO: Apply a Flatten Layer\n",
    "    # Function Definition from Above:\n",
    "    #   flatten(x_tensor)\n",
    "    flatten_layer = flatten(conv3)\n",
    "\n",
    "    \n",
    "    \n",
    "    # TODO: Apply 1, 2, or 3 Fully Connected Layers\n",
    "    #    Play around with different number of outputs\n",
    "    # Function Definition from Above:\n",
    "    #   fully_conn(x_tensor, num_outputs)\n",
    "    \n",
    "    fully_conn_layer = fully_conn(flatten_layer, 256)\n",
    "    fully_conn_layer = tf.nn.dropout(fully_conn_layer, keep_prob)\n",
    "    fully_conn_layer = fully_conn(fully_conn_layer,720)\n",
    "    fully_conn_layer = tf.nn.dropout(fully_conn_layer, keep_prob)\n",
    "\n",
    "\n",
    "\n",
    "    \n",
    "    \n",
    "    # TODO: Apply an Output Layer\n",
    "    #    Set this to the number of classes\n",
    "    # Function Definition from Above:\n",
    "    #   output(x_tensor, num_outputs)\n",
    "    \n",
    "    output_layer = output(fully_conn_layer, num_outputs)\n",
    "    \n",
    "    \n",
    "    # TODO: return output\n",
    "  \n",
    "    return output_layer\n",
    "\n",
    "\n",
    "##############################\n",
    "## Build the Neural Network ##\n",
    "##############################\n",
    "\n",
    "# Remove previous weights, bias, inputs, etc..\n",
    "tf.reset_default_graph()\n",
    "\n",
    "# Inputs\n",
    "x = neural_net_image_input((32, 32, 3))\n",
    "y = neural_net_label_input(10)\n",
    "keep_prob = neural_net_keep_prob_input()\n",
    "\n",
    "# Model\n",
    "logits = conv_net(x, keep_prob)\n",
    "\n",
    "# Name logits Tensor, so that is can be loaded from disk after training\n",
    "logits = tf.identity(logits, name='logits')\n",
    "\n",
    "# Loss and Optimizer\n",
    "cost = tf.reduce_mean(tf.nn.softmax_cross_entropy_with_logits(logits=logits, labels=y))\n",
    "optimizer = tf.train.AdamOptimizer().minimize(cost)\n",
    "\n",
    "# Accuracy\n",
    "correct_pred = tf.equal(tf.argmax(logits, 1), tf.argmax(y, 1))\n",
    "accuracy = tf.reduce_mean(tf.cast(correct_pred, tf.float32), name='accuracy')\n",
    "\n",
    "tests.test_conv_net(conv_net)"
   ]
  },
  {
   "cell_type": "code",
   "execution_count": 112,
   "metadata": {
    "ExecuteTime": {
     "end_time": "2018-01-08T00:30:05.010519Z",
     "start_time": "2018-01-08T00:30:04.978516Z"
    }
   },
   "outputs": [
    {
     "name": "stdout",
     "output_type": "stream",
     "text": [
      "Tests Passed\n"
     ]
    }
   ],
   "source": [
    "def train_neural_network(session, optimizer, keep_probability, feature_batch, label_batch):\n",
    "    \"\"\"\n",
    "    Optimize the session on a batch of images and labels\n",
    "    : session: Current TensorFlow session\n",
    "    : optimizer: TensorFlow optimizer function\n",
    "    : keep_probability: keep probability\n",
    "    : feature_batch: Batch of Numpy image data\n",
    "    : label_batch: Batch of Numpy label data\n",
    "    \"\"\"\n",
    "    # TODO: Implement Function\n",
    "    session.run(optimizer, feed_dict={x: feature_batch, \\\n",
    "                                      y: label_batch, \\\n",
    "                                      keep_prob: keep_probability})\n",
    "\n",
    "    pass\n",
    "\n",
    "\n",
    "tests.test_train_nn(train_neural_network)"
   ]
  },
  {
   "cell_type": "code",
   "execution_count": 113,
   "metadata": {
    "ExecuteTime": {
     "end_time": "2018-01-08T00:30:06.061307Z",
     "start_time": "2018-01-08T00:30:06.041305Z"
    }
   },
   "outputs": [],
   "source": [
    "def print_stats(session, feature_batch, label_batch, cost, accuracy):\n",
    "    \"\"\"\n",
    "    Print information about loss and validation accuracy\n",
    "    : session: Current TensorFlow session\n",
    "    : feature_batch: Batch of Numpy image data\n",
    "    : label_batch: Batch of Numpy label data\n",
    "    : cost: TensorFlow cost function\n",
    "    : accuracy: TensorFlow accuracy function\n",
    "    \"\"\"\n",
    "    # TODO: Implement Function\n",
    "    loss = session.run(cost, feed_dict={x: feature_batch, \\\n",
    "                                        y: label_batch,   \\\n",
    "                                        keep_prob: 1. })\n",
    "    \n",
    "    accur = session.run(accuracy, feed_dict={x: valid_features, \\\n",
    "                                             y: valid_labels,   \\\n",
    "                                             keep_prob: 1.})\n",
    "    \n",
    "    print('Loss: {:.2f}  Validation Accuracy: {:.2f}%'.format(loss, accur*100), end='\\r')\n",
    "    pass\n"
   ]
  },
  {
   "cell_type": "code",
   "execution_count": 114,
   "metadata": {
    "ExecuteTime": {
     "end_time": "2018-01-08T00:30:06.961463Z",
     "start_time": "2018-01-08T00:30:06.945463Z"
    }
   },
   "outputs": [],
   "source": [
    "# TODO: Tune Parameters\n",
    "epochs = 36\n",
    "batch_size =128\n",
    "keep_probability = .8"
   ]
  },
  {
   "cell_type": "code",
   "execution_count": 115,
   "metadata": {
    "ExecuteTime": {
     "end_time": "2018-01-08T00:49:53.669334Z",
     "start_time": "2018-01-08T00:30:08.010038Z"
    }
   },
   "outputs": [
    {
     "name": "stdout",
     "output_type": "stream",
     "text": [
      "Checking the Training on a Single Batch...\n",
      "Epoch 36, CIFAR-10 Batch 1:  Loss: 1.98  Validation Accuracy: 37.24%Loss: 1.58  Validation Accuracy: 44.16%Loss: 1.33  Validation Accuracy: 46.42%Loss: 1.15  Validation Accuracy: 48.12%Loss: 1.06  Validation Accuracy: 49.72%Loss: 0.87  Validation Accuracy: 51.40%Loss: 0.80  Validation Accuracy: 53.00%Loss: 0.70  Validation Accuracy: 52.56%Loss: 0.56  Validation Accuracy: 52.08%Loss: 0.47  Validation Accuracy: 52.66%Loss: 0.40  Validation Accuracy: 53.40%Loss: 0.32  Validation Accuracy: 53.80%Loss: 0.27  Validation Accuracy: 54.48%Loss: 0.24  Validation Accuracy: 52.32%Loss: 0.21  Validation Accuracy: 53.40%Loss: 0.21  Validation Accuracy: 52.88%Loss: 0.23  Validation Accuracy: 49.98%Loss: 0.11  Validation Accuracy: 53.56%Loss: 0.08  Validation Accuracy: 53.80%Loss: 0.05  Validation Accuracy: 53.90%Loss: 0.06  Validation Accuracy: 52.64%Loss: 0.04  Validation Accuracy: 52.88%Loss: 0.05  Validation Accuracy: 54.50%Loss: 0.03  Validation Accuracy: 53.86%Loss: 0.03  Validation Accuracy: 53.02%Loss: 0.02  Validation Accuracy: 53.70%Loss: 0.02  Validation Accuracy: 53.46%Loss: 0.02  Validation Accuracy: 52.48%Loss: 0.02  Validation Accuracy: 52.04%Loss: 0.02  Validation Accuracy: 52.60%Loss: 0.02  Validation Accuracy: 51.76%Loss: 0.01  Validation Accuracy: 52.24%Loss: 0.02  Validation Accuracy: 51.50%Loss: 0.01  Validation Accuracy: 53.26%Loss: 0.01  Validation Accuracy: 53.18%Loss: 0.02  Validation Accuracy: 51.12%\r"
     ]
    }
   ],
   "source": [
    "\"\"\"\n",
    "DON'T MODIFY ANYTHING IN THIS CELL\n",
    "\"\"\"\n",
    "print('Checking the Training on a Single Batch...')\n",
    "with tf.Session() as sess:\n",
    "    # Initializing the variables\n",
    "    sess.run(tf.global_variables_initializer())\n",
    "    \n",
    "    # Training cycle\n",
    "    for epoch in range(epochs):\n",
    "        batch_i = 1\n",
    "        for batch_features, batch_labels in helper.load_preprocess_training_batch(batch_i, batch_size):\n",
    "            train_neural_network(sess, optimizer, keep_probability, batch_features, batch_labels)\n",
    "        print('Epoch {:>2}, CIFAR-10 Batch {}:  '.format(epoch + 1, batch_i), end='')\n",
    "        print_stats(sess, batch_features, batch_labels, cost, accuracy)"
   ]
  },
  {
   "cell_type": "markdown",
   "metadata": {},
   "source": [
    "### Fully Train the Model\n",
    "Now that you got a good accuracy with a single CIFAR-10 batch, try it with all five batches."
   ]
  },
  {
   "cell_type": "code",
   "execution_count": 116,
   "metadata": {
    "ExecuteTime": {
     "end_time": "2018-01-08T02:39:32.723018Z",
     "start_time": "2018-01-08T00:51:45.232369Z"
    }
   },
   "outputs": [
    {
     "name": "stdout",
     "output_type": "stream",
     "text": [
      "Training...\n",
      "Epoch 36, CIFAR-10 Batch 5:  Loss: 2.09  Validation Accuracy: 34.52%Loss: 1.65  Validation Accuracy: 39.96%Loss: 1.29  Validation Accuracy: 42.22%Loss: 1.35  Validation Accuracy: 47.16%Loss: 1.50  Validation Accuracy: 49.52%Loss: 1.47  Validation Accuracy: 50.46%Loss: 1.33  Validation Accuracy: 50.96%Loss: 0.95  Validation Accuracy: 51.52%Loss: 1.15  Validation Accuracy: 53.70%Loss: 1.24  Validation Accuracy: 55.16%Loss: 1.27  Validation Accuracy: 54.98%Loss: 1.13  Validation Accuracy: 54.26%Loss: 0.85  Validation Accuracy: 54.34%Loss: 0.97  Validation Accuracy: 56.66%Loss: 1.00  Validation Accuracy: 56.98%Loss: 1.11  Validation Accuracy: 57.82%Loss: 0.87  Validation Accuracy: 57.70%Loss: 0.70  Validation Accuracy: 56.92%Loss: 0.82  Validation Accuracy: 58.96%Loss: 0.84  Validation Accuracy: 59.38%Loss: 0.93  Validation Accuracy: 60.10%Loss: 0.74  Validation Accuracy: 58.98%Loss: 0.60  Validation Accuracy: 58.30%Loss: 0.69  Validation Accuracy: 61.28%Loss: 0.67  Validation Accuracy: 60.02%Loss: 0.83  Validation Accuracy: 61.34%Loss: 0.63  Validation Accuracy: 58.82%Loss: 0.46  Validation Accuracy: 60.40%Loss: 0.52  Validation Accuracy: 60.54%Loss: 0.67  Validation Accuracy: 59.40%Loss: 0.69  Validation Accuracy: 61.38%Loss: 0.49  Validation Accuracy: 60.56%Loss: 0.39  Validation Accuracy: 61.12%Loss: 0.41  Validation Accuracy: 61.94%Loss: 0.45  Validation Accuracy: 62.36%Loss: 0.66  Validation Accuracy: 62.56%Loss: 0.46  Validation Accuracy: 60.12%Loss: 0.38  Validation Accuracy: 60.88%Loss: 0.40  Validation Accuracy: 61.74%Loss: 0.43  Validation Accuracy: 62.16%Loss: 0.55  Validation Accuracy: 63.06%Loss: 0.41  Validation Accuracy: 61.62%Loss: 0.36  Validation Accuracy: 60.20%Loss: 0.39  Validation Accuracy: 62.90%Loss: 0.39  Validation Accuracy: 63.14%Loss: 0.38  Validation Accuracy: 62.96%Loss: 0.41  Validation Accuracy: 60.72%Loss: 0.28  Validation Accuracy: 63.36%Loss: 0.36  Validation Accuracy: 62.56%Loss: 0.33  Validation Accuracy: 62.90%Loss: 0.31  Validation Accuracy: 63.58%Loss: 0.36  Validation Accuracy: 59.86%Loss: 0.26  Validation Accuracy: 63.58%Loss: 0.28  Validation Accuracy: 63.38%Loss: 0.31  Validation Accuracy: 63.72%Loss: 0.29  Validation Accuracy: 63.54%Loss: 0.32  Validation Accuracy: 61.38%Loss: 0.22  Validation Accuracy: 62.62%Loss: 0.22  Validation Accuracy: 63.76%Loss: 0.34  Validation Accuracy: 61.66%Loss: 0.23  Validation Accuracy: 62.66%Loss: 0.30  Validation Accuracy: 62.66%Loss: 0.21  Validation Accuracy: 62.92%Loss: 0.22  Validation Accuracy: 62.94%Loss: 0.27  Validation Accuracy: 63.48%Loss: 0.24  Validation Accuracy: 63.20%Loss: 0.24  Validation Accuracy: 62.76%Loss: 0.16  Validation Accuracy: 62.54%Loss: 0.17  Validation Accuracy: 62.86%Loss: 0.25  Validation Accuracy: 63.44%Loss: 0.19  Validation Accuracy: 63.10%Loss: 0.29  Validation Accuracy: 61.10%Loss: 0.14  Validation Accuracy: 63.00%Loss: 0.15  Validation Accuracy: 63.76%Loss: 0.21  Validation Accuracy: 63.10%Loss: 0.17  Validation Accuracy: 64.72%Loss: 0.21  Validation Accuracy: 60.20%Loss: 0.10  Validation Accuracy: 63.60%Loss: 0.11  Validation Accuracy: 64.60%Loss: 0.20  Validation Accuracy: 63.26%Loss: 0.13  Validation Accuracy: 63.10%Loss: 0.20  Validation Accuracy: 61.52%Loss: 0.12  Validation Accuracy: 64.12%Loss: 0.12  Validation Accuracy: 64.16%Loss: 0.15  Validation Accuracy: 62.94%Loss: 0.16  Validation Accuracy: 64.18%Loss: 0.19  Validation Accuracy: 59.32%Loss: 0.12  Validation Accuracy: 64.28%Loss: 0.14  Validation Accuracy: 64.20%Loss: 0.14  Validation Accuracy: 63.80%Loss: 0.21  Validation Accuracy: 63.50%Loss: 0.17  Validation Accuracy: 61.28%Loss: 0.11  Validation Accuracy: 63.82%Loss: 0.12  Validation Accuracy: 64.54%Loss: 0.11  Validation Accuracy: 63.72%Loss: 0.13  Validation Accuracy: 63.48%Loss: 0.14  Validation Accuracy: 60.52%Loss: 0.11  Validation Accuracy: 62.68%Loss: 0.08  Validation Accuracy: 63.00%Loss: 0.11  Validation Accuracy: 63.42%Loss: 0.11  Validation Accuracy: 63.16%Loss: 0.15  Validation Accuracy: 62.92%Loss: 0.09  Validation Accuracy: 62.18%Loss: 0.09  Validation Accuracy: 64.00%Loss: 0.13  Validation Accuracy: 63.64%Loss: 0.10  Validation Accuracy: 63.72%Loss: 0.13  Validation Accuracy: 62.38%Loss: 0.08  Validation Accuracy: 62.66%Loss: 0.08  Validation Accuracy: 64.56%Loss: 0.10  Validation Accuracy: 63.04%Loss: 0.07  Validation Accuracy: 63.60%Loss: 0.14  Validation Accuracy: 63.48%Loss: 0.09  Validation Accuracy: 62.34%Loss: 0.08  Validation Accuracy: 63.50%Loss: 0.11  Validation Accuracy: 63.12%Loss: 0.07  Validation Accuracy: 63.06%Loss: 0.17  Validation Accuracy: 63.72%Loss: 0.09  Validation Accuracy: 61.86%Loss: 0.10  Validation Accuracy: 63.58%Loss: 0.06  Validation Accuracy: 63.02%Loss: 0.09  Validation Accuracy: 62.40%Loss: 0.09  Validation Accuracy: 62.48%Loss: 0.07  Validation Accuracy: 62.76%Loss: 0.06  Validation Accuracy: 63.76%Loss: 0.09  Validation Accuracy: 63.06%Loss: 0.06  Validation Accuracy: 61.76%Loss: 0.08  Validation Accuracy: 63.36%Loss: 0.06  Validation Accuracy: 61.94%Loss: 0.05  Validation Accuracy: 64.32%Loss: 0.06  Validation Accuracy: 63.04%Loss: 0.06  Validation Accuracy: 62.66%Loss: 0.09  Validation Accuracy: 63.02%Loss: 0.07  Validation Accuracy: 62.04%Loss: 0.05  Validation Accuracy: 63.50%Loss: 0.07  Validation Accuracy: 62.66%Loss: 0.06  Validation Accuracy: 62.16%Loss: 0.08  Validation Accuracy: 62.26%Loss: 0.06  Validation Accuracy: 61.50%Loss: 0.05  Validation Accuracy: 62.98%Loss: 0.06  Validation Accuracy: 62.86%Loss: 0.06  Validation Accuracy: 61.72%Loss: 0.11  Validation Accuracy: 61.38%Loss: 0.04  Validation Accuracy: 63.44%Loss: 0.07  Validation Accuracy: 62.62%Loss: 0.07  Validation Accuracy: 62.04%Loss: 0.05  Validation Accuracy: 62.24%Loss: 0.07  Validation Accuracy: 62.88%Loss: 0.05  Validation Accuracy: 62.52%Loss: 0.07  Validation Accuracy: 62.26%Loss: 0.07  Validation Accuracy: 63.08%Loss: 0.05  Validation Accuracy: 62.72%Loss: 0.06  Validation Accuracy: 62.72%Loss: 0.05  Validation Accuracy: 61.64%Loss: 0.07  Validation Accuracy: 62.72%Loss: 0.06  Validation Accuracy: 62.16%Loss: 0.04  Validation Accuracy: 63.08%Loss: 0.06  Validation Accuracy: 62.64%Loss: 0.05  Validation Accuracy: 63.50%Loss: 0.05  Validation Accuracy: 62.86%Loss: 0.07  Validation Accuracy: 61.30%Loss: 0.06  Validation Accuracy: 63.12%Loss: 0.06  Validation Accuracy: 62.38%Loss: 0.04  Validation Accuracy: 63.12%Loss: 0.03  Validation Accuracy: 63.66%Loss: 0.05  Validation Accuracy: 62.92%Loss: 0.04  Validation Accuracy: 62.74%Loss: 0.06  Validation Accuracy: 63.10%Loss: 0.05  Validation Accuracy: 63.06%Loss: 0.03  Validation Accuracy: 63.74%Loss: 0.04  Validation Accuracy: 61.64%Loss: 0.04  Validation Accuracy: 62.76%Loss: 0.04  Validation Accuracy: 62.94%Loss: 0.04  Validation Accuracy: 62.76%Loss: 0.03  Validation Accuracy: 64.02%Loss: 0.03  Validation Accuracy: 62.58%Loss: 0.03  Validation Accuracy: 63.90%Loss: 0.05  Validation Accuracy: 63.00%Loss: 0.03  Validation Accuracy: 61.80%Loss: 0.03  Validation Accuracy: 64.26%Loss: 0.05  Validation Accuracy: 62.58%\r"
     ]
    }
   ],
   "source": [
    "save_model_path = './image_classification'\n",
    "\n",
    "print('Training...')\n",
    "with tf.Session() as sess:\n",
    "    # Initializing the variables\n",
    "    sess.run(tf.global_variables_initializer())\n",
    "    \n",
    "    # Training cycle\n",
    "    for epoch in range(epochs):\n",
    "        # Loop over all batches\n",
    "        n_batches = 5\n",
    "        for batch_i in range(1, n_batches + 1):\n",
    "            for batch_features, batch_labels in helper.load_preprocess_training_batch(batch_i, batch_size):\n",
    "                train_neural_network(sess, optimizer, keep_probability, batch_features, batch_labels)\n",
    "            print('Epoch {:>2}, CIFAR-10 Batch {}:  '.format(epoch + 1, batch_i), end='')\n",
    "            print_stats(sess, batch_features, batch_labels, cost, accuracy)\n",
    "            \n",
    "    # Save Model\n",
    "    saver = tf.train.Saver()\n",
    "    save_path = saver.save(sess, save_model_path)"
   ]
  },
  {
   "cell_type": "code",
   "execution_count": 117,
   "metadata": {
    "ExecuteTime": {
     "end_time": "2018-01-08T02:40:43.556998Z",
     "start_time": "2018-01-08T02:40:20.151868Z"
    }
   },
   "outputs": [
    {
     "name": "stdout",
     "output_type": "stream",
     "text": [
      "INFO:tensorflow:Restoring parameters from ./image_classification\n",
      "Testing Accuracy: 0.6348892405063291\n",
      "\n"
     ]
    },
    {
     "data": {
      "image/png": "[encoded data removed]",
      "text/plain": [
       "<matplotlib.figure.Figure at 0x172ac3fccf8>"
      ]
     },
     "metadata": {
      "image/png": {
       "height": 319,
       "width": 355
      }
     },
     "output_type": "display_data"
    }
   ],
   "source": [
    "%matplotlib inline\n",
    "%config InlineBackend.figure_format = 'retina'\n",
    "\n",
    "import tensorflow as tf\n",
    "import pickle\n",
    "import helper\n",
    "import random\n",
    "\n",
    "# Set batch size if not already set\n",
    "try:\n",
    "    if batch_size:\n",
    "        pass\n",
    "except NameError:\n",
    "    batch_size = 64\n",
    "\n",
    "save_model_path = './image_classification'\n",
    "n_samples = 4\n",
    "top_n_predictions = 3\n",
    "\n",
    "def test_model():\n",
    "    \"\"\"\n",
    "    Test the saved model against the test dataset\n",
    "    \"\"\"\n",
    "\n",
    "    test_features, test_labels = pickle.load(open('preprocess_training.p', mode='rb'))\n",
    "    loaded_graph = tf.Graph()\n",
    "\n",
    "    with tf.Session(graph=loaded_graph) as sess:\n",
    "        # Load model\n",
    "        loader = tf.train.import_meta_graph(save_model_path + '.meta')\n",
    "        loader.restore(sess, save_model_path)\n",
    "\n",
    "        # Get Tensors from loaded model\n",
    "        loaded_x = loaded_graph.get_tensor_by_name('x:0')\n",
    "        loaded_y = loaded_graph.get_tensor_by_name('y:0')\n",
    "        loaded_keep_prob = loaded_graph.get_tensor_by_name('keep_prob:0')\n",
    "        loaded_logits = loaded_graph.get_tensor_by_name('logits:0')\n",
    "        loaded_acc = loaded_graph.get_tensor_by_name('accuracy:0')\n",
    "        \n",
    "        # Get accuracy in batches for memory limitations\n",
    "        test_batch_acc_total = 0\n",
    "        test_batch_count = 0\n",
    "        \n",
    "        for train_feature_batch, train_label_batch in helper.batch_features_labels(test_features, test_labels, batch_size):\n",
    "            test_batch_acc_total += sess.run(\n",
    "                loaded_acc,\n",
    "                feed_dict={loaded_x: train_feature_batch, loaded_y: train_label_batch, loaded_keep_prob: 1.0})\n",
    "            test_batch_count += 1\n",
    "\n",
    "        print('Testing Accuracy: {}\\n'.format(test_batch_acc_total/test_batch_count))\n",
    "\n",
    "        # Print Random Samples\n",
    "        random_test_features, random_test_labels = tuple(zip(*random.sample(list(zip(test_features, test_labels)), n_samples)))\n",
    "        random_test_predictions = sess.run(\n",
    "            tf.nn.top_k(tf.nn.softmax(loaded_logits), top_n_predictions),\n",
    "            feed_dict={loaded_x: random_test_features, loaded_y: random_test_labels, loaded_keep_prob: 1.0})\n",
    "        helper.display_image_predictions(random_test_features, random_test_labels, random_test_predictions)\n",
    "\n",
    "\n",
    "test_model()"
   ]
  }
 ],
 "metadata": {
  "kernelspec": {
   "display_name": "Python 3",
   "language": "python",
   "name": "python3"
  },
  "language_info": {
   "codemirror_mode": {
    "name": "ipython",
    "version": 3
   },
   "file_extension": ".py",
   "mimetype": "text/x-python",
   "name": "python",
   "nbconvert_exporter": "python",
   "pygments_lexer": "ipython3",
   "version": "3.7.3"
  },
  "latex_envs": {
   "LaTeX_envs_menu_present": true,
   "autoclose": false,
   "autocomplete": true,
   "bibliofile": "biblio.bib",
   "cite_by": "apalike",
   "current_citInitial": 1,
   "eqLabelWithNumbers": true,
   "eqNumInitial": 1,
   "hotkeys": {
    "equation": "Ctrl-E",
    "itemize": "Ctrl-I"
   },
   "labels_anchors": false,
   "latex_user_defs": false,
   "report_style_numbering": true,
   "user_envs_cfg": false
  },
  "nbTranslate": {
   "displayLangs": [
    "*"
   ],
   "hotkey": "alt-t",
   "langInMainMenu": true,
   "sourceLang": "en",
   "targetLang": "fr",
   "useGoogleTranslate": true
  },
  "varInspector": {
   "cols": {
    "lenName": 16,
    "lenType": 16,
    "lenVar": 40
   },
   "kernels_config": {
    "python": {
     "delete_cmd_postfix": "",
     "delete_cmd_prefix": "del ",
     "library": "var_list.py",
     "varRefreshCmd": "print(var_dic_list())"
    },
    "r": {
     "delete_cmd_postfix": ") ",
     "delete_cmd_prefix": "rm(",
     "library": "var_list.r",
     "varRefreshCmd": "cat(var_dic_list()) "
    }
   },
   "types_to_exclude": [
    "module",
    "function",
    "builtin_function_or_method",
    "instance",
    "_Feature"
   ],
   "window_display": false
  }
 },
 "nbformat": 4,
 "nbformat_minor": 1
}
